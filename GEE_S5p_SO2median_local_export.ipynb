{
 "cells": [
  {
   "cell_type": "code",
   "execution_count": null,
   "metadata": {
    "extensions": {
     "jupyter_dashboards": {
      "version": 1,
      "views": {
       "grid_default": {
        "hidden": true
       },
       "report_default": {
        "hidden": true
       }
      }
     }
    },
    "scrolled": false
   },
   "outputs": [],
   "source": [
    "# Upload the packages\n",
    "import os\n",
    "import ee\n",
    "import geemap"
   ]
  },
  {
   "cell_type": "code",
   "execution_count": null,
   "metadata": {},
   "outputs": [],
   "source": [
    "# Create an ipyleaflet-based interactive map with Geemap\n",
    "Map = geemap.Map()\n",
    "Map"
   ]
  },
  {
   "cell_type": "code",
   "execution_count": null,
   "metadata": {},
   "outputs": [],
   "source": [
    "# Draw shapes on the interactive map using the Drawing tools & use it as ROI \n",
    "# Draw any shapes on the map using the Drawing tools before executing this code block\n",
    "feature = Map.draw_last_feature\n",
    "roi = feature.geometry()"
   ]
  },
  {
   "cell_type": "code",
   "execution_count": null,
   "metadata": {
    "extensions": {
     "jupyter_dashboards": {
      "version": 1,
      "views": {
       "grid_default": {},
       "report_default": {}
      }
     }
    }
   },
   "outputs": [],
   "source": [
    "# Upload a collection of images (Sentinel-5p, Ground lev SO2) & visualizing it\n",
    "# Sentinel 5-p SO2 vertical column density at ground level (DOAS technique)\n",
    "collection = ee.ImageCollection('COPERNICUS/S5P/NRTI/L3_SO2')\\\n",
    ".select('SO2_column_number_density')\\\n",
    ".filterDate('2020-03-01', '2020-12-31')\\\n",
    ".filterBounds(roi)\n",
    "\n",
    "# Define the range\n",
    "val_max = 0.0\n",
    "val_min = 0.0005\n",
    "band_viz = {\n",
    "  'min': val_min,\n",
    "  'max': val_max,\n",
    "  'opacity': 1.0,\n",
    "  'palette': ['black', 'blue', 'purple', 'cyan', 'green', 'yellow', 'red']\n",
    "}\n",
    "\n",
    "Map.addLayer(collection.median().clip(roi), band_viz, 'groLev_SO2_2020')"
   ]
  },
  {
   "cell_type": "code",
   "execution_count": null,
   "metadata": {},
   "outputs": [],
   "source": [
    "# Reduce the collection with a median reducer.\n",
    "collection_median = collection.reduce(ee.Reducer.median())\n",
    "# Clip the imageCollection \n",
    "collection_median_clip = collection_median.clip(roi).unmask()\n",
    "# Visualize the clipped image\n",
    "Map.addLayer(collection_median_clip, band_viz, 'SO2_2020')"
   ]
  },
  {
   "cell_type": "code",
   "execution_count": null,
   "metadata": {},
   "outputs": [],
   "source": [
    "# Select the path & define the filename\n",
    "path = '/Users/...'\n",
    "out_dir = os.path.join(os.path.expanduser('~'), 'Downloads')\n",
    "filename = os.path.join(out_dir, 'S5p.tif')"
   ]
  },
  {
   "cell_type": "code",
   "execution_count": null,
   "metadata": {},
   "outputs": [],
   "source": [
    "# Export the image\n",
    "geemap.ee_export_image(collection_median_clip, \n",
    "                       filename=filename, \n",
    "                       scale=1000, \n",
    "                       region=roi, \n",
    "                       file_per_band=True)"
   ]
  }
 ],
 "metadata": {
  "celltoolbar": "Raw Cell Format",
  "extensions": {
   "jupyter_dashboards": {
    "activeView": "grid_default",
    "version": 1,
    "views": {
     "grid_default": {
      "cellMargin": 10,
      "defaultCellHeight": 20,
      "maxColumns": 12,
      "name": "grid",
      "type": "grid"
     },
     "report_default": {
      "name": "report",
      "type": "report"
     }
    }
   }
  },
  "kernelspec": {
   "display_name": "Python 3",
   "language": "python",
   "name": "python3"
  },
  "language_info": {
   "codemirror_mode": {
    "name": "ipython",
    "version": 3
   },
   "file_extension": ".py",
   "mimetype": "text/x-python",
   "name": "python",
   "nbconvert_exporter": "python",
   "pygments_lexer": "ipython3",
   "version": "3.8.5"
  }
 },
 "nbformat": 4,
 "nbformat_minor": 4
}
