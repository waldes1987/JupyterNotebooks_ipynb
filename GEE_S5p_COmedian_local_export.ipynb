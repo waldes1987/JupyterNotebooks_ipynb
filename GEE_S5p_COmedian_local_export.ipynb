{
 "cells": [
  {
   "cell_type": "code",
   "execution_count": 1,
   "id": "undefined-spank",
   "metadata": {},
   "outputs": [],
   "source": [
    "# Upload the packages\n",
    "import os\n",
    "import ee\n",
    "import geemap"
   ]
  },
  {
   "cell_type": "code",
   "execution_count": 2,
   "id": "different-apple",
   "metadata": {},
   "outputs": [
    {
     "data": {
      "application/vnd.jupyter.widget-view+json": {
       "model_id": "a67905e41ed847db84457ad71d1c654b",
       "version_major": 2,
       "version_minor": 0
      },
      "text/plain": [
       "Map(center=[40, -100], controls=(WidgetControl(options=['position'], widget=HBox(children=(ToggleButton(value=…"
      ]
     },
     "metadata": {},
     "output_type": "display_data"
    }
   ],
   "source": [
    "# Create an ipyleaflet-based interactive map with Geemap\n",
    "Map = geemap.Map()\n",
    "Map"
   ]
  },
  {
   "cell_type": "code",
   "execution_count": 3,
   "id": "spare-session",
   "metadata": {},
   "outputs": [],
   "source": [
    "# Draw shapes on the interactive map using the Drawing tools & use it as ROI\n",
    "# Draw any shapes on the map using the Drawing tools before executing this code block\n",
    "feature = Map.draw_last_feature\n",
    "roi = feature.geometry()"
   ]
  },
  {
   "cell_type": "code",
   "execution_count": 4,
   "id": "copyrighted-philadelphia",
   "metadata": {},
   "outputs": [],
   "source": [
    "# Upload a collection of images (Sentinel-5p, Tropospheric NO2) & visualizing it\n",
    "# Sentinel 5P NO2 concentrations (NRT)\n",
    "collection = (ee.ImageCollection('COPERNICUS/S5P/NRTI/L3_CO') \\\n",
    "  .select('CO_column_number_density') \\\n",
    "  .filterDate('2020-01-01', '2020-12-31')) \n",
    "  #.filterBounds(roi))"
   ]
  },
  {
   "cell_type": "code",
   "execution_count": 5,
   "id": "eastern-nancy",
   "metadata": {},
   "outputs": [],
   "source": [
    "# Define the range\n",
    "val_max = 0.05\n",
    "val_min = 0\n",
    "band_viz = {\n",
    "  'min': val_min,\n",
    "  'max': val_max,\n",
    "  'opacity': 1.0,\n",
    "  'palette': ['black', 'blue', 'purple', 'cyan', 'green', 'yellow', 'red']\n",
    "}\n",
    "\n",
    "Map.addLayer(collection.median(), band_viz, 'NO2_2020')"
   ]
  },
  {
   "cell_type": "code",
   "execution_count": 6,
   "id": "medical-farming",
   "metadata": {},
   "outputs": [],
   "source": [
    "# Reduce the collection with a median reducer.\n",
    "collection_median = collection.reduce(ee.Reducer.median())\n",
    "# Clip the imageCollection \n",
    "collection_median_clip = collection_median.clip(roi).unmask()\n",
    "# Visualize the clipped image\n",
    "Map.addLayer(collection_median_clip, band_viz, 'CO_2020')"
   ]
  },
  {
   "cell_type": "code",
   "execution_count": 15,
   "id": "primary-appeal",
   "metadata": {},
   "outputs": [],
   "source": [
    "# Select the path & define the filename (change the path with yours)\n",
    "path = '/Users/...'\n",
    "out_dir = os.path.join(os.path.expanduser('~'), 'Downloads')\n",
    "filename = os.path.join(out_dir, 'S5p.tif')"
   ]
  },
  {
   "cell_type": "code",
   "execution_count": 16,
   "id": "underlying-scholar",
   "metadata": {},
   "outputs": [
    {
     "name": "stdout",
     "output_type": "stream",
     "text": [
      "The filename must end with .tif\n"
     ]
    }
   ],
   "source": [
    "# Export the image in a local directory\n",
    "geemap.ee_export_image(collection_median_clip, \n",
    "                       filename=filename, \n",
    "                       scale=1000,\n",
    "                       region=roi, \n",
    "                       file_per_band=True)"
   ]
  }
 ],
 "metadata": {
  "kernelspec": {
   "display_name": "Python 3",
   "language": "python",
   "name": "python3"
  },
  "language_info": {
   "codemirror_mode": {
    "name": "ipython",
    "version": 3
   },
   "file_extension": ".py",
   "mimetype": "text/x-python",
   "name": "python",
   "nbconvert_exporter": "python",
   "pygments_lexer": "ipython3",
   "version": "3.7.10"
  }
 },
 "nbformat": 4,
 "nbformat_minor": 5
}
