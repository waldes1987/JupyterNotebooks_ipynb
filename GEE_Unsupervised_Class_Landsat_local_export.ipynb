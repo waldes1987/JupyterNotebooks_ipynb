{
 "cells": [
  {
   "cell_type": "code",
   "execution_count": null,
   "id": "severe-composer",
   "metadata": {},
   "outputs": [],
   "source": [
    "# Upload the packages\n",
    "import ee \n",
    "import geemap\n",
    "import os"
   ]
  },
  {
   "cell_type": "code",
   "execution_count": null,
   "id": "dried-dialogue",
   "metadata": {},
   "outputs": [],
   "source": [
    "# Create a map centered at (lat, lon).\n",
    "Map = geemap.Map(center=[42.4346, 13.5959], zoom=10)\n",
    "Map"
   ]
  },
  {
   "cell_type": "code",
   "execution_count": null,
   "id": "maritime-square",
   "metadata": {},
   "outputs": [],
   "source": [
    "# Draw shapes on the interactive map using the Drawing tools & use it as ROI\n",
    "# Draw any shapes on the map using the Drawing tools before executing this code block\n",
    "feature = Map.draw_last_feature\n",
    "roi = feature.geometry()"
   ]
  },
  {
   "cell_type": "code",
   "execution_count": null,
   "id": "inner-traveler",
   "metadata": {
    "scrolled": false
   },
   "outputs": [],
   "source": [
    "# Load a pre-computed Landsat7 composite for input.\n",
    "landsat2014 = ee.Image('LANDSAT/LE7_TOA_1YEAR/2014')\n",
    "\n",
    "# Display the roi.\n",
    "Map.setCenter(13.5959, 42.4346, 10)\n",
    "Map.addLayer(ee.Image().paint(roi, 0, 2), {}, 'roi')"
   ]
  },
  {
   "cell_type": "code",
   "execution_count": null,
   "id": "sharing-patient",
   "metadata": {},
   "outputs": [],
   "source": [
    "# UNSUPERVISED CLASSIFICATION (kMeans)\n",
    "# Make the training dataset.\n",
    "training = landsat2014.sample(**{\n",
    "  'region': roi,\n",
    "  'scale': 30,\n",
    "  'tileScale': 8,\n",
    "  'numPixels': 5000\n",
    "})\n",
    "\n",
    "# Instantiate the clusterer and train it.\n",
    "clusterer = ee.Clusterer.wekaKMeans(10).train(training)\n",
    "\n",
    "# Cluster the input using the trained clusterer.\n",
    "result = landsat2014.cluster(clusterer)\n",
    "\n",
    "# Display the clusters with random colors & clip on the ROI.\n",
    "Map.addLayer(result.randomVisualizer().clip(roi), {}, 'clusters')"
   ]
  },
  {
   "cell_type": "code",
   "execution_count": null,
   "id": "trained-failure",
   "metadata": {},
   "outputs": [],
   "source": [
    "# Select the path & define the filename (change the path with yours)\n",
    "path = '/Users/...'\n",
    "out_dir = os.path.join(os.path.expanduser('~'), 'Downloads')\n",
    "filename = os.path.join(out_dir, 'Unsupervised_Class_Landsat2014.tif')"
   ]
  },
  {
   "cell_type": "code",
   "execution_count": null,
   "id": "tested-armor",
   "metadata": {},
   "outputs": [],
   "source": [
    "# Export the image in a local directory\n",
    "geemap.ee_export_image(result, \n",
    "                       filename=filename, \n",
    "                       scale=30,\n",
    "                       region=roi, \n",
    "                       file_per_band=True)"
   ]
  }
 ],
 "metadata": {
  "kernelspec": {
   "display_name": "Python 3",
   "language": "python",
   "name": "python3"
  },
  "language_info": {
   "codemirror_mode": {
    "name": "ipython",
    "version": 3
   },
   "file_extension": ".py",
   "mimetype": "text/x-python",
   "name": "python",
   "nbconvert_exporter": "python",
   "pygments_lexer": "ipython3",
   "version": "3.8.5"
  }
 },
 "nbformat": 4,
 "nbformat_minor": 5
}
